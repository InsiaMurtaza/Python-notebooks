{
  "nbformat": 4,
  "nbformat_minor": 0,
  "metadata": {
    "colab": {
      "provenance": [],
      "authorship_tag": "ABX9TyPiWRF+hqKghKxVKopzBCvg",
      "include_colab_link": true
    },
    "kernelspec": {
      "name": "python3",
      "display_name": "Python 3"
    },
    "language_info": {
      "name": "python"
    }
  },
  "cells": [
    {
      "cell_type": "markdown",
      "metadata": {
        "id": "view-in-github",
        "colab_type": "text"
      },
      "source": [
        "<a href=\"https://colab.research.google.com/github/InsiaMurtaza/Python-notebooks/blob/main/assignment6.ipynb\" target=\"_parent\"><img src=\"https://colab.research.google.com/assets/colab-badge.svg\" alt=\"Open In Colab\"/></a>"
      ]
    },
    {
      "cell_type": "markdown",
      "source": [
        "1.Using self\n",
        "Assignment:\n",
        "Create a class Student with attributes name and marks. Use the self keyword to initialize these values via a constructor. Add a method display() that prints student details."
      ],
      "metadata": {
        "id": "n2Fm0ugvmMAx"
      }
    },
    {
      "cell_type": "code",
      "execution_count": null,
      "metadata": {
        "colab": {
          "base_uri": "https://localhost:8080/"
        },
        "id": "HSL6-2dKgW42",
        "outputId": "150f939f-7a4d-4801-e77b-55acc7acf0af"
      },
      "outputs": [
        {
          "output_type": "stream",
          "name": "stdout",
          "text": [
            "Name: John Marks: 90\n"
          ]
        }
      ],
      "source": [
        "class Student:\n",
        "  def __init__(self,name:str,marks:float):\n",
        "    self.name = name\n",
        "    self.marks = marks\n",
        "  def display(self):\n",
        "    print(f\"Name: {self.name} Marks: {self.marks}\")\n",
        "\n",
        "\n",
        "s1 = Student(\"John\",90)\n",
        "s1.display()"
      ]
    },
    {
      "cell_type": "markdown",
      "source": [
        "2.Using cls\n",
        "Assignment:\n",
        "Create a class Counter that keeps track of how many objects have been created. Use a class variable and a class method with cls to manage and display the count."
      ],
      "metadata": {
        "id": "hp_oe4tDlKcu"
      }
    },
    {
      "cell_type": "code",
      "source": [
        "class Counter:\n",
        "  count = 0\n",
        "  def __init__(self):\n",
        "    Counter.count += 1\n",
        "  @classmethod\n",
        "  def display_count(cls):\n",
        "    print(f\"Count: {cls.count}\")\n",
        "\n",
        "  # def reset_count(cls):\n",
        "  #   cls.count = 0\n",
        "  #   return cls.count\n",
        "\n",
        "\n",
        "\n",
        "c1 = Counter()\n",
        "c1.display_count()\n",
        "c2 = Counter()\n",
        "c2.display_count()\n",
        "c3 = Counter()\n",
        "c3.display_count()\n",
        "c4 = Counter()\n",
        "c4.display_count()\n"
      ],
      "metadata": {
        "colab": {
          "base_uri": "https://localhost:8080/"
        },
        "id": "MLOdybSw_9fm",
        "outputId": "2f03bf18-52d1-4a69-b208-c39c8c65dea9"
      },
      "execution_count": null,
      "outputs": [
        {
          "output_type": "stream",
          "name": "stdout",
          "text": [
            "Count: 1\n",
            "Count: 2\n",
            "Count: 3\n",
            "Count: 4\n"
          ]
        }
      ]
    },
    {
      "cell_type": "markdown",
      "source": [
        "3.Public Variables and Methods\n",
        "Assignment:\n",
        "Create a class Car with a public variable brand and a public method start(). Instantiate the class and access both from outside the class."
      ],
      "metadata": {
        "id": "NY5pLrjmlUs0"
      }
    },
    {
      "cell_type": "code",
      "source": [
        "class Car:\n",
        "  def __init__(self,brand:str):\n",
        "    self.brand = brand\n",
        "  def start(self):\n",
        "    print(f\"{self.brand} is starting\")\n",
        "\n",
        "c1 = Car(\"Suzuki\")\n",
        "c1.start()"
      ],
      "metadata": {
        "colab": {
          "base_uri": "https://localhost:8080/"
        },
        "id": "aDBLWtVeJAEC",
        "outputId": "114e953b-fd00-4d4a-d8a1-4e82c8345955"
      },
      "execution_count": null,
      "outputs": [
        {
          "output_type": "stream",
          "name": "stdout",
          "text": [
            "Suzuki is starting\n"
          ]
        }
      ]
    },
    {
      "cell_type": "markdown",
      "source": [
        "4.Class Variables and Class Methods\n",
        "Assignment:\n",
        "Create a class Bank with a class variable bank_name. Add a class method change_bank_name(cls, name) that allows changing the bank name. Show that it affects all instances."
      ],
      "metadata": {
        "id": "dM3kqn4klWys"
      }
    },
    {
      "cell_type": "code",
      "source": [
        "class Bank:\n",
        "  bank_name = \"AlFalah\"\n",
        "  def __init__(self,acc_holder:str,balance:float):\n",
        "    self.acc_holder = acc_holder\n",
        "    self.balance = balance\n",
        "  def show_details(self):\n",
        "    print(f\"Account Title:{self.acc_holder} Balance:{self.balance} Bank Name:{Bank.bank_name}\")\n",
        "  @classmethod\n",
        "  def change_name(cls,new_name:str):\n",
        "    cls.bank_name = new_name\n",
        "    return cls.bank_name\n",
        "\n",
        "b1 = Bank(\"Insia\",10000)\n",
        "b1.show_details()\n",
        "b1.change_name(\"Bank AlHabib\")\n",
        "b1.show_details()"
      ],
      "metadata": {
        "colab": {
          "base_uri": "https://localhost:8080/"
        },
        "id": "VqOqB3wJJ0ii",
        "outputId": "f8cf9bfc-caf6-4b16-ff95-4087ea873e9a"
      },
      "execution_count": null,
      "outputs": [
        {
          "output_type": "stream",
          "name": "stdout",
          "text": [
            "Account Title:Insia Balance:10000 Bank Name:AlFalah\n",
            "Account Title:Insia Balance:10000 Bank Name:Bank AlHabib\n"
          ]
        }
      ]
    },
    {
      "cell_type": "markdown",
      "source": [
        "5.Static Variables and Static Methods\n",
        "Assignment:\n",
        "Create a class MathUtils with a static method add(a, b) that returns the sum. No class or instance variables should be used."
      ],
      "metadata": {
        "id": "nNsDNtNelY74"
      }
    },
    {
      "cell_type": "code",
      "source": [
        "class MathUtils:\n",
        "  @staticmethod\n",
        "  def add(a:int,b:int):\n",
        "    return a + b\n",
        "\n",
        "MathUtils.add(5,7)"
      ],
      "metadata": {
        "colab": {
          "base_uri": "https://localhost:8080/"
        },
        "id": "Tvzi1G-JalDN",
        "outputId": "30bd33d2-a0c4-4663-dcce-0f1d83dadf8a"
      },
      "execution_count": null,
      "outputs": [
        {
          "output_type": "execute_result",
          "data": {
            "text/plain": [
              "12"
            ]
          },
          "metadata": {},
          "execution_count": 18
        }
      ]
    },
    {
      "cell_type": "markdown",
      "source": [
        "6.Constructors and Destructors\n",
        "Assignment:\n",
        "Create a class Logger that prints a message when an object is created (constructor) and another message when it is destroyed (destructor)."
      ],
      "metadata": {
        "id": "OKc2npUKlavh"
      }
    },
    {
      "cell_type": "code",
      "source": [
        "class Logger:\n",
        "  def __init__(self):\n",
        "    print(\"The Object has been created\")\n",
        "\n",
        "  def __del__(self):\n",
        "    print(\"The Object has been deleted\")\n",
        "\n",
        "l1 = Logger()\n",
        "del l1"
      ],
      "metadata": {
        "colab": {
          "base_uri": "https://localhost:8080/"
        },
        "id": "sUMQK6GRbJ5K",
        "outputId": "bee8edae-717c-4847-a2ad-c1134d3edb4f"
      },
      "execution_count": null,
      "outputs": [
        {
          "output_type": "stream",
          "name": "stdout",
          "text": [
            "The Object has been created\n",
            "The Object has been deleted\n"
          ]
        }
      ]
    },
    {
      "cell_type": "markdown",
      "source": [
        "7.Access Modifiers: Public, Private, and Protected\n",
        "Assignment:\n",
        "Create a class Employee with:\n",
        "\n",
        "a public variable name,\n",
        "\n",
        "a protected variable _salary, and\n",
        "\n",
        "a private variable __ssn.\n",
        "\n",
        "Try accessing all three variables from an object of the class and document what happens."
      ],
      "metadata": {
        "id": "kLu3cAQVlci-"
      }
    },
    {
      "cell_type": "code",
      "source": [
        "class Employee:\n",
        "  def __init__(self,name:str,salary:int,ssn:int):\n",
        "    self.name = name\n",
        "    self._salary = salary\n",
        "    self.__ssn = ssn\n",
        "  def get_salary(self):\n",
        "    return self._salary\n",
        "  def get_ssn(self):\n",
        "    return self.__ssn\n",
        "\n",
        "e1 = Employee(\"Insia\",10000,123456789)\n",
        "print(e1.name)\n",
        "print(e1.get_salary())\n",
        "print(e1.get_ssn())"
      ],
      "metadata": {
        "colab": {
          "base_uri": "https://localhost:8080/"
        },
        "id": "BVOrgnBcblVG",
        "outputId": "1cc47ece-af3d-42c8-a61b-51e62ae80850"
      },
      "execution_count": null,
      "outputs": [
        {
          "output_type": "stream",
          "name": "stdout",
          "text": [
            "Insia\n",
            "10000\n",
            "123456789\n"
          ]
        }
      ]
    },
    {
      "cell_type": "markdown",
      "source": [
        "8.The super() Function\n",
        "Assignment:\n",
        "Create a class Person with a constructor that sets the name. Inherit a class Teacher from it, add a subject field, and use super() to call the base class constructor."
      ],
      "metadata": {
        "id": "H-xiDTjDleVY"
      }
    },
    {
      "cell_type": "code",
      "source": [
        "class Person:\n",
        "  def __init__(self,name:str):\n",
        "    self.name = name\n",
        "\n",
        "class Teacher(Person):\n",
        "  def __init__(self,name:str,subject:str):\n",
        "    self.subject = subject\n",
        "    super().__init__(name)\n",
        "  def about_teacher(self):\n",
        "    print(f\"{self.name} teaches {self.subject}\")\n",
        "\n",
        "p1 = Person(\"Insia\")\n",
        "t1 = Teacher(p1.name,\"Math\")\n",
        "t1.about_teacher()"
      ],
      "metadata": {
        "colab": {
          "base_uri": "https://localhost:8080/"
        },
        "id": "IfGf-i9Qc9t_",
        "outputId": "9253ee4e-cb1b-4b4f-ac60-524073638d74"
      },
      "execution_count": null,
      "outputs": [
        {
          "output_type": "stream",
          "name": "stdout",
          "text": [
            "Insia teaches Math\n"
          ]
        }
      ]
    },
    {
      "cell_type": "markdown",
      "source": [
        "9.Abstract Classes and Methods\n",
        "Assignment:\n",
        "Use the abc module to create an abstract class Shape with an abstract method area(). Inherit a class Rectangle that implements area()."
      ],
      "metadata": {
        "id": "U4pXyXD0lghC"
      }
    },
    {
      "cell_type": "code",
      "source": [
        "from abc import ABC,abstractmethod\n",
        "class Shape(ABC):\n",
        "  def __init__(self,length:float,width:float):\n",
        "    self.length = length\n",
        "    self.width = width\n",
        "  @abstractmethod\n",
        "  def area(self):\n",
        "    area = self.length * self.width\n",
        "    return area\n",
        "\n",
        "class Rectangle(Shape):\n",
        "  def __init__(self,length:float,width:float):\n",
        "    super().__init__(length,width)\n",
        "  def area(self):\n",
        "    return super().area()\n",
        "\n",
        "r1 = Rectangle(10,20)\n",
        "print(\"The area of this shape is\",r1.area(),\"sq.units.\")\n"
      ],
      "metadata": {
        "colab": {
          "base_uri": "https://localhost:8080/"
        },
        "id": "lt1M4oqNSy6e",
        "outputId": "12df7ff7-bcd7-46de-9261-911288810d6a"
      },
      "execution_count": null,
      "outputs": [
        {
          "output_type": "stream",
          "name": "stdout",
          "text": [
            "The area of this shape is 200 sq.units\n"
          ]
        }
      ]
    },
    {
      "cell_type": "markdown",
      "source": [
        "10.Instance Methods\n",
        "Assignment:\n",
        "Create a class Dog with instance variables name and breed. Add an instance method bark() that prints a message including the dog's name."
      ],
      "metadata": {
        "id": "X-IsOsZ7lifH"
      }
    },
    {
      "cell_type": "code",
      "source": [
        "class Dog:\n",
        " def __init__(self,name:str,breed:str):\n",
        "  self.name = name\n",
        "  self.breed = breed\n",
        " def bark(self):\n",
        "  print(f\"{self.name} is barking since last 15 minutes...\")\n",
        "\n",
        "d1 = Dog(\"Tony\",\"Labrador\")\n",
        "d1.bark()\n"
      ],
      "metadata": {
        "colab": {
          "base_uri": "https://localhost:8080/"
        },
        "id": "w7XYYmLdUPiI",
        "outputId": "b1cd2df4-10d4-4b95-f171-3e10227d3529"
      },
      "execution_count": null,
      "outputs": [
        {
          "output_type": "stream",
          "name": "stdout",
          "text": [
            "Tony is barking since last 15 minutes...\n"
          ]
        }
      ]
    },
    {
      "cell_type": "markdown",
      "source": [
        "11.Class Methods\n",
        "Assignment:\n",
        "Create a class Book with a class variable total_books. Add a class method increment_book_count() to increase the count when a new book is added."
      ],
      "metadata": {
        "id": "objKd2vYlkgD"
      }
    },
    {
      "cell_type": "code",
      "source": [
        "class Book:\n",
        "\n",
        "  total_books = 250\n",
        "\n",
        "  @classmethod\n",
        "  def get_total_books(cls):\n",
        "    return cls.total_books\n",
        "  @classmethod\n",
        "  def increment_book_count(cls):\n",
        "    cls.total_books += 1\n",
        "    return cls.total_books\n",
        "\n",
        "Book.get_total_books()\n",
        "\n",
        "Book.increment_book_count()"
      ],
      "metadata": {
        "colab": {
          "base_uri": "https://localhost:8080/"
        },
        "id": "JBc2O7gpVg95",
        "outputId": "30801c0c-2ebf-4c47-bf92-76f8ffbeaa4b"
      },
      "execution_count": null,
      "outputs": [
        {
          "output_type": "execute_result",
          "data": {
            "text/plain": [
              "251"
            ]
          },
          "metadata": {},
          "execution_count": 17
        }
      ]
    },
    {
      "cell_type": "markdown",
      "source": [
        "12.Static Methods\n",
        "Assignment:\n",
        "Create a class TemperatureConverter with a static method celsius_to_fahrenheit(c) that returns the Fahrenheit value."
      ],
      "metadata": {
        "id": "TP_FM06yl8_X"
      }
    },
    {
      "cell_type": "code",
      "source": [
        "class TemperatureConverter:\n",
        "  @staticmethod\n",
        "  def celsius_to_fahrenheit(celsius:float):\n",
        "    fahrenheit = (celsius * 9/5) + 32\n",
        "    return fahrenheit\n",
        "\n",
        "t1 = TemperatureConverter()\n",
        "t1.celsius_to_fahrenheit(0)\n",
        "# TemperatureConverter.celsius_to_fahrenheit(0) we can access method directly by class without making object\n"
      ],
      "metadata": {
        "colab": {
          "base_uri": "https://localhost:8080/"
        },
        "id": "3G3gEHWNlnJr",
        "outputId": "8ae4a26f-ec90-42ec-e432-07ba7d67b0fe"
      },
      "execution_count": null,
      "outputs": [
        {
          "output_type": "execute_result",
          "data": {
            "text/plain": [
              "32.0"
            ]
          },
          "metadata": {},
          "execution_count": 4
        }
      ]
    },
    {
      "cell_type": "markdown",
      "source": [
        "13.Composition\n",
        "Assignment:\n",
        "Create a class Engine and a class Car. Use composition by passing an Engine object to the Car class during initialization. Access a method of the Engine class via the Car class."
      ],
      "metadata": {
        "id": "vGAhGvilmE0h"
      }
    },
    {
      "cell_type": "code",
      "source": [
        "class Engine:\n",
        "  def start():\n",
        "    print(\"The engine is starting\")\n",
        "\n",
        "class Car2:\n",
        "  def __init__(self,engine:Engine):\n",
        "    self.engine = Engine\n",
        "  def start(self):\n",
        "    self.engine.start()\n",
        "\n",
        "# e1 = Engine() no output\n",
        "c3 = Car2(Engine)\n",
        "c3.start()\n",
        "\n"
      ],
      "metadata": {
        "colab": {
          "base_uri": "https://localhost:8080/"
        },
        "id": "TqW3wr0qmBOj",
        "outputId": "fff0eff5-5f2f-414f-c4ad-887dbe05d15b"
      },
      "execution_count": null,
      "outputs": [
        {
          "output_type": "stream",
          "name": "stdout",
          "text": [
            "The engine is starting\n"
          ]
        }
      ]
    },
    {
      "cell_type": "markdown",
      "source": [
        "14. Aggregation\n",
        "Assignment:\n",
        "Create a class Department and a class Employee. Use aggregation by having a Department object store a reference to an Employee object that exists independently of it."
      ],
      "metadata": {
        "id": "1SJ7mwh1or4o"
      }
    },
    {
      "cell_type": "code",
      "source": [
        "class Department:\n",
        "  def __init__(self,name:str):\n",
        "    self.name = name\n",
        "  def show_name(self):\n",
        "    print(\"Department\",self.name)\n",
        "\n",
        "class Employee:\n",
        "  def __init__(self,name:str,department):\n",
        "    self.name = name\n",
        "    self.department = department\n",
        "  def show_details(self):\n",
        "    print(f\"Employee Name:{self.name}\")\n",
        "    self.department.show_name()\n",
        "\n",
        "d1 = Department(\"IT\")\n",
        "d1.show_name()\n",
        "e1 = Employee(\"Insia\",d1)\n",
        "e1.show_details()\n"
      ],
      "metadata": {
        "colab": {
          "base_uri": "https://localhost:8080/"
        },
        "id": "bbxOIYw_orqp",
        "outputId": "1e193f53-2650-4c3e-924f-f2d3a643696b"
      },
      "execution_count": null,
      "outputs": [
        {
          "output_type": "stream",
          "name": "stdout",
          "text": [
            "Department IT\n",
            "Employee Name:Insia\n",
            "Department IT\n"
          ]
        }
      ]
    },
    {
      "cell_type": "markdown",
      "source": [
        "15. Method Resolution Order (MRO) and Diamond Inheritance\n",
        "Assignment:\n",
        "Create four classes:\n",
        "\n",
        "A with a method show(),\n",
        "\n",
        "B and C that inherit from A and override show(),\n",
        "\n",
        "D that inherits from both B and C.\n",
        "\n",
        "Create an object of D and call show() to observe MRO."
      ],
      "metadata": {
        "id": "u5pZd014CAAj"
      }
    },
    {
      "cell_type": "code",
      "source": [
        "class A:\n",
        "  def show(self):\n",
        "    print(\"This is class A\")\n",
        "class B(A):\n",
        "  def show(self):\n",
        "    print(\"This is class B\")\n",
        "class C(A):\n",
        "  def show(self):\n",
        "    print(\"This is class C\")\n",
        "class D(B,C):\n",
        "  pass\n",
        "\n",
        "d1 = D()\n",
        "d1.show()"
      ],
      "metadata": {
        "colab": {
          "base_uri": "https://localhost:8080/"
        },
        "id": "vjuyeO7DsqqH",
        "outputId": "dfa2ed8c-c342-452b-a341-ac7e0325a858"
      },
      "execution_count": null,
      "outputs": [
        {
          "output_type": "stream",
          "name": "stdout",
          "text": [
            "This is class B\n"
          ]
        }
      ]
    },
    {
      "cell_type": "markdown",
      "source": [
        "16. Function Decorators\n",
        "Assignment:\n",
        "Write a decorator function log_function_call that prints \"Function is being called\" before a function executes. Apply it to a function say_hello()."
      ],
      "metadata": {
        "id": "37-4JHCysz1V"
      }
    },
    {
      "cell_type": "code",
      "source": [
        "# class Decorator:\n",
        "def log_function_call(func):\n",
        "  def wrapper(*args,**kwargs):\n",
        "    print(\"Function is being called\")\n",
        "    return func(*args,**kwargs)\n",
        "  return wrapper\n",
        "@log_function_call\n",
        "def say_hello():\n",
        "  print(\"Hello World\")\n",
        "\n",
        "# Decorator.say_hello()\n",
        "\n",
        "say_hello()\n"
      ],
      "metadata": {
        "colab": {
          "base_uri": "https://localhost:8080/"
        },
        "id": "jRcZhvnFBsS7",
        "outputId": "6cee6fbd-acfa-4ce4-b450-ea0fc4e5b519"
      },
      "execution_count": null,
      "outputs": [
        {
          "output_type": "stream",
          "name": "stdout",
          "text": [
            "Function is being called\n",
            "Hello World\n"
          ]
        }
      ]
    },
    {
      "cell_type": "markdown",
      "source": [
        "17.Create a class decorator add_greeting that modifies a class to add a greet() method returning \"Hello from Decorator!\". Apply it to a class Person."
      ],
      "metadata": {
        "id": "qz2Sx1jsTZMR"
      }
    },
    {
      "cell_type": "code",
      "source": [
        "\n",
        "def add_greet(cls):\n",
        "  def greet(self):\n",
        "      return \"Hello from Decorator\"\n",
        "  cls.greet = greet\n",
        "  return cls\n",
        "\n",
        "@add_greet\n",
        "class Person:\n",
        "  def __init__(self,name:str):\n",
        "    self.name = name\n",
        "\n",
        "p1 = Person(\"Insia\")\n",
        "\n",
        "print(p1.name)\n",
        "\n",
        "print(p1.greet())"
      ],
      "metadata": {
        "colab": {
          "base_uri": "https://localhost:8080/"
        },
        "id": "mrWK2bEjTdZ1",
        "outputId": "a483079d-c580-4bd6-d597-e2045a619dbe"
      },
      "execution_count": null,
      "outputs": [
        {
          "output_type": "stream",
          "name": "stdout",
          "text": [
            "Insia\n",
            "Hello from Decorator\n"
          ]
        }
      ]
    },
    {
      "cell_type": "markdown",
      "source": [
        "18. Property Decorators: @property, @setter, and @deleter\n",
        "Assignment:\n",
        "Create a class Product with a private attribute _price. Use @property to get the price, @price.setter to update it, and @price.deleter to delete it."
      ],
      "metadata": {
        "id": "XVUHckJryrem"
      }
    },
    {
      "cell_type": "code",
      "source": [
        "# By setter and getter methods or attributes are accessed by the same name as the variable\n",
        "class Product:\n",
        "  def __init__(self,price:int):\n",
        "    self._price = price\n",
        "\n",
        "  @property\n",
        "  def price(self):\n",
        "    return self._price\n",
        "\n",
        "  @price.setter\n",
        "  def price(self,newprice:int):\n",
        "    self._price = newprice\n",
        "    return self._price\n",
        "\n",
        "  @price.deleter\n",
        "  def price(self):\n",
        "    del self._price\n",
        "    print(\"This product is extinguished...\")\n",
        "\n",
        "p2 = Product(999)\n",
        "print(p2.price)\n",
        "p2.price = 799\n",
        "print(p2.price)\n",
        "del p2.price\n",
        "\n",
        "\n",
        "\n"
      ],
      "metadata": {
        "colab": {
          "base_uri": "https://localhost:8080/"
        },
        "id": "qhaxvR_fyzHN",
        "outputId": "0b9033dd-b4eb-4476-80fe-356a153166dd"
      },
      "execution_count": null,
      "outputs": [
        {
          "output_type": "stream",
          "name": "stdout",
          "text": [
            "999\n",
            "799\n",
            "This product is extinguished...\n"
          ]
        }
      ]
    },
    {
      "cell_type": "markdown",
      "source": [
        "19. callable() and __call__()\n",
        "Assignment:\n",
        "Create a class Multiplier with an __init__() to set a factor. Define a __call__() method that multiplies an input by the factor. Test it with callable() and by calling the object like a function."
      ],
      "metadata": {
        "id": "At8vctnRYysm"
      }
    },
    {
      "cell_type": "code",
      "source": [
        "class Multiplier:\n",
        "  def __init__(self,factor:int):\n",
        "    self.factor = factor\n",
        "  def __call__(self,number:int):\n",
        "    return self.factor * number\n",
        "\n",
        "m1 = Multiplier(4)\n",
        "print(callable(m1))\n",
        "result = m1(5)\n",
        "print(result)"
      ],
      "metadata": {
        "colab": {
          "base_uri": "https://localhost:8080/"
        },
        "id": "efgf0hecY3i_",
        "outputId": "4a5e7703-88da-4a91-81a2-6fd29bd6c434"
      },
      "execution_count": null,
      "outputs": [
        {
          "output_type": "stream",
          "name": "stdout",
          "text": [
            "True\n",
            "20\n"
          ]
        }
      ]
    },
    {
      "cell_type": "markdown",
      "source": [
        "20. Creating a Custom Exception\n",
        "Assignment:\n",
        "Create a custom exception InvalidAgeError. Write a function check_age(age) that raises this exception if age < 18. Handle it with try...except."
      ],
      "metadata": {
        "id": "OORYWdBoa12c"
      }
    },
    {
      "cell_type": "code",
      "source": [
        "class InvalidAgeError(Exception):\n",
        "  def __str__(self):\n",
        "    return f\"You are not eligible to vote...\"\n",
        "\n",
        "  def check_age(age:int):\n",
        "    try:\n",
        "      age = int(input(\"Enter your age: \"))\n",
        "      if age >= 18:\n",
        "        print(\"You are eligible to vote.\")\n",
        "      else:\n",
        "            raise InvalidAgeError()\n",
        "    except InvalidAgeError as e:\n",
        "       print(e)\n",
        "    except ValueError:\n",
        "      print(\"Invalid input. Please enter a valid number.\")\n",
        "\n",
        "InvalidAgeError.check_age(1)\n",
        "\n",
        "\n"
      ],
      "metadata": {
        "colab": {
          "base_uri": "https://localhost:8080/"
        },
        "id": "yXB572Yoa5r2",
        "outputId": "2ae0471c-5119-4269-ce9a-59c70f62f7b0"
      },
      "execution_count": null,
      "outputs": [
        {
          "output_type": "stream",
          "name": "stdout",
          "text": [
            "Enter your age: 12\n",
            "You are not eligible to vote...\n"
          ]
        }
      ]
    },
    {
      "cell_type": "markdown",
      "source": [
        "21. Make a Custom Class Iterable\n",
        "Assignment:\n",
        "Create a class Countdown that takes a start number. Implement __iter__() and __next__() to make the object iterable in a for-loop, counting down to 0."
      ],
      "metadata": {
        "id": "2nHWNjt3k9qE"
      }
    },
    {
      "cell_type": "code",
      "source": [
        "class Countdown:\n",
        "    def __init__(self,start):\n",
        "        self.start = start\n",
        "\n",
        "    def __iter__(self):\n",
        "        return self  # the object itself is the iterator\n",
        "\n",
        "    def __next__(self):\n",
        "        if self.start < 0:\n",
        "            raise StopIteration  # signals end of iteration\n",
        "        else:\n",
        "          value = self.start\n",
        "          self.start -= 1\n",
        "          return value\n",
        "\n",
        "cd1 = Countdown(10)\n",
        "\n",
        "for num in cd1:\n",
        "  print(num)\n"
      ],
      "metadata": {
        "colab": {
          "base_uri": "https://localhost:8080/"
        },
        "id": "uQHYlTK8k_zP",
        "outputId": "d3f4b067-1f77-4c30-e63c-63b5fe426e8e"
      },
      "execution_count": null,
      "outputs": [
        {
          "output_type": "stream",
          "name": "stdout",
          "text": [
            "10\n",
            "9\n",
            "8\n",
            "7\n",
            "6\n",
            "5\n",
            "4\n",
            "3\n",
            "2\n",
            "1\n",
            "0\n"
          ]
        }
      ]
    }
  ]
}