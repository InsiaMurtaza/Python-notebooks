{
  "nbformat": 4,
  "nbformat_minor": 0,
  "metadata": {
    "colab": {
      "provenance": [],
      "authorship_tag": "ABX9TyP4QqL8A/+f6+3MiSOscFsc",
      "include_colab_link": true
    },
    "kernelspec": {
      "name": "python3",
      "display_name": "Python 3"
    },
    "language_info": {
      "name": "python"
    }
  },
  "cells": [
    {
      "cell_type": "markdown",
      "metadata": {
        "id": "view-in-github",
        "colab_type": "text"
      },
      "source": [
        "<a href=\"https://colab.research.google.com/github/InsiaMurtaza/Python-notebooks/blob/main/mysecondnotebook.ipynb\" target=\"_parent\"><img src=\"https://colab.research.google.com/assets/colab-badge.svg\" alt=\"Open In Colab\"/></a>"
      ]
    },
    {
      "cell_type": "code",
      "execution_count": null,
      "metadata": {
        "colab": {
          "base_uri": "https://localhost:8080/"
        },
        "id": "GGq9LlfA-ESG",
        "outputId": "75baa12d-6427-4cfe-e71c-37747527a188"
      },
      "outputs": [
        {
          "output_type": "stream",
          "name": "stdout",
          "text": [
            "['Hello', 'World']\n"
          ]
        }
      ],
      "source": [
        "first_string:str = \"Hello World\"\n",
        "modified_string:str = first_string.split(\" \")\n",
        "print(modified_string)"
      ]
    },
    {
      "cell_type": "code",
      "source": [
        "first_string:str = \"Hello World\"\n",
        "modified_string:str = first_string.split(\"W\")\n",
        "print(modified_string)"
      ],
      "metadata": {
        "colab": {
          "base_uri": "https://localhost:8080/"
        },
        "id": "Mdw1K1DP_jIZ",
        "outputId": "a5db1dfd-a5f0-4d46-e3e4-d43f1596338b"
      },
      "execution_count": null,
      "outputs": [
        {
          "output_type": "stream",
          "name": "stdout",
          "text": [
            "['Hello ', 'orld']\n"
          ]
        }
      ]
    },
    {
      "cell_type": "code",
      "source": [
        "first_string:str = \"Hello World\"\n",
        "modified_string:str = first_string.split(\"l\")\n",
        "print(modified_string)\n",
        "# both ways are correct but better is that you store the capitalized string in capital_string and print it\n",
        "# capital_string:str = first_string.upper()\n",
        "# print(capital_string)\n",
        "print(first_string.upper())\n",
        "lower_case_string:str = first_string.lower()\n",
        "print(lower_case_string)\n"
      ],
      "metadata": {
        "colab": {
          "base_uri": "https://localhost:8080/"
        },
        "id": "6qfIqLJK_xOw",
        "outputId": "f598f6cc-2967-48eb-c9c3-b31a401cc522"
      },
      "execution_count": null,
      "outputs": [
        {
          "output_type": "stream",
          "name": "stdout",
          "text": [
            "['He', '', 'o Wor', 'd']\n",
            "HELLO WORLD\n",
            "hello world\n"
          ]
        }
      ]
    },
    {
      "cell_type": "code",
      "source": [
        "message:str = \"Pakistan won all the matches of ICC champions' trophy\"\n",
        "message = message.replace(\"Pakistan\",\"India\")\n",
        "print(message)"
      ],
      "metadata": {
        "colab": {
          "base_uri": "https://localhost:8080/"
        },
        "id": "OvOPGiz6klTz",
        "outputId": "86ac1510-dadc-4502-ad32-fe98513af3c6"
      },
      "execution_count": null,
      "outputs": [
        {
          "output_type": "stream",
          "name": "stdout",
          "text": [
            "India won all the matches of ICC champions' trophy\n"
          ]
        }
      ]
    },
    {
      "cell_type": "code",
      "source": [
        "print(type(None))\n",
        "a=range(5)\n",
        "print(type(a))\n",
        "print(type(b\"hello\"))\n",
        "b=5//2\n",
        "print(type(b))\n",
        "print(isinstance(5,int))"
      ],
      "metadata": {
        "colab": {
          "base_uri": "https://localhost:8080/"
        },
        "id": "DuNrOi02CVVJ",
        "outputId": "ec56b2d9-3470-4c50-c8a5-931a85284603"
      },
      "execution_count": null,
      "outputs": [
        {
          "output_type": "stream",
          "name": "stdout",
          "text": [
            "<class 'NoneType'>\n",
            "<class 'range'>\n",
            "<class 'bytes'>\n",
            "<class 'int'>\n",
            "True\n"
          ]
        }
      ]
    },
    {
      "cell_type": "code",
      "source": [
        "cricket_team_countries = \",\".join([\"India\",\"Australia\",\"England\",\"South Africa\",\"New Zealand\"])\n",
        "print(cricket_team_countries)\n",
        "name = \"Insia Murtaza\"\n",
        "print(len(name))"
      ],
      "metadata": {
        "id": "fdGTtler0TWA",
        "colab": {
          "base_uri": "https://localhost:8080/"
        },
        "outputId": "263e78dc-3be6-439a-b558-085d9141e8ed"
      },
      "execution_count": null,
      "outputs": [
        {
          "output_type": "stream",
          "name": "stdout",
          "text": [
            "India,Australia,England,South Africa,New Zealand\n",
            "13\n"
          ]
        }
      ]
    },
    {
      "cell_type": "code",
      "source": [
        "a:str =\"hello world\"\n",
        "b:str = \"hello world\"\n",
        "# if there is space in any of the strings though the arrangement of alphabets and alphabets are same but their reference no. called ids differ\n",
        "# and so is operator (which returns a boolean value) will return false as it compares the reference no. of both strings\n",
        "print(id(a))\n",
        "print(id(b))\n",
        "print(a is b)"
      ],
      "metadata": {
        "colab": {
          "base_uri": "https://localhost:8080/"
        },
        "id": "QwK0fY-xV9qq",
        "outputId": "eb2cd206-8e2f-47f5-cdf4-1e33a912e4a7"
      },
      "execution_count": null,
      "outputs": [
        {
          "output_type": "stream",
          "name": "stdout",
          "text": [
            "138870120402352\n",
            "138870133151664\n",
            "False\n"
          ]
        }
      ]
    },
    {
      "cell_type": "code",
      "source": [
        "a:str = \"helloworld\"\n",
        "b:str = \"helloworld\"\n",
        "# elsewise if there is no space in both strings and arrangement of alphabets and alphabets are also same is operator will return true\n",
        "print(id(a))\n",
        "print(id(b))\n",
        "print(a is b)\n",
        "# python sends small strings without spaces to special memory pool with same id"
      ],
      "metadata": {
        "colab": {
          "base_uri": "https://localhost:8080/"
        },
        "id": "dmBsB5uWWO1w",
        "outputId": "b83be1e9-47bd-4990-f8e3-101e2504a0c2"
      },
      "execution_count": null,
      "outputs": [
        {
          "output_type": "stream",
          "name": "stdout",
          "text": [
            "138870551314160\n",
            "138870551314160\n",
            "True\n"
          ]
        }
      ]
    },
    {
      "cell_type": "code",
      "source": [
        "# if we import system and use its method intern it will ignore the spaces in strings and if the arrangement of alphabets\n",
        "# and alphabets are same then is operator will return true as system will allot same reference no. to both strings\n",
        "import sys\n",
        "a:str = sys.intern(\"hello world\")\n",
        "b:str = sys.intern(\"hello world\")\n",
        "print(id(a))\n",
        "print(id(b))\n",
        "print(a is b)"
      ],
      "metadata": {
        "id": "UbHnNEH3Zy8c",
        "colab": {
          "base_uri": "https://localhost:8080/"
        },
        "outputId": "a14f33c4-917d-44dc-8f68-d9cbef906389"
      },
      "execution_count": null,
      "outputs": [
        {
          "output_type": "stream",
          "name": "stdout",
          "text": [
            "138870120207536\n",
            "138870120207536\n",
            "True\n"
          ]
        }
      ]
    },
    {
      "cell_type": "code",
      "source": [
        "a:str = \"hello\"\n",
        "b:str = \"world\"\n",
        "c:str = \"helloworld\"\n",
        "print(id(c))\n",
        "d = sys.intern(a + b)\n",
        "print(id(d))\n",
        "print(c is d)\n"
      ],
      "metadata": {
        "colab": {
          "base_uri": "https://localhost:8080/"
        },
        "id": "Bko1XeEaa5k5",
        "outputId": "4223fc46-c505-4e52-d04f-e3a3777dc118"
      },
      "execution_count": null,
      "outputs": [
        {
          "output_type": "stream",
          "name": "stdout",
          "text": [
            "138870113657328\n",
            "138870113657328\n",
            "True\n"
          ]
        }
      ]
    },
    {
      "cell_type": "code",
      "source": [
        "# this tells us that concatenating two strings and assigning the concatenated\n",
        "# string to a variable do not generate same id unless sys.intern method is not used\n",
        "a:str = \"hello\"\n",
        "b:str = \"world\"\n",
        "c:str = \"helloworld\"\n",
        "print(id(c))\n",
        "d = a + b\n",
        "print(id(d))\n",
        "print(c is d)\n"
      ],
      "metadata": {
        "colab": {
          "base_uri": "https://localhost:8080/"
        },
        "id": "FpIKq74SbtVP",
        "outputId": "2036df61-99e5-4b6f-91ce-0f0e61b3a43e"
      },
      "execution_count": null,
      "outputs": [
        {
          "output_type": "stream",
          "name": "stdout",
          "text": [
            "138870113657328\n",
            "138870122980144\n",
            "False\n"
          ]
        }
      ]
    },
    {
      "cell_type": "code",
      "source": [
        "# The in operator is used to check if a value exists in a collection (like a list, tuple, dictionary, string, or set).\n",
        "# It returns True if the value is found, otherwise False.\n",
        "fruits:list = [\"Mango\",\"Banana\",\"Strawberry\",\"Grapes\",\"Apple\"]\n",
        "print(\"Mango\" in fruits)\n",
        "print(\"Rasberry\" in fruits)"
      ],
      "metadata": {
        "colab": {
          "base_uri": "https://localhost:8080/"
        },
        "id": "WEH57xUUqQDJ",
        "outputId": "56991a52-1113-4b7f-8209-3739553e8479"
      },
      "execution_count": null,
      "outputs": [
        {
          "output_type": "stream",
          "name": "stdout",
          "text": [
            "True\n",
            "False\n"
          ]
        }
      ]
    },
    {
      "cell_type": "code",
      "source": [
        "# A dictionary in Python is a collection of key-value pairs. It is an unordered,\n",
        "# mutable and indexed data structure that allows fast lookups and modifications.\n",
        "person:dict = {\n",
        "  \"name\":\"Insia Murtaza\",\n",
        "  \"age\": 43,\n",
        "  \"isTeacher\": True,\n",
        "  \"class\": {\n",
        "      \"day\": \"Saturday\",\n",
        "      \"time\": \"2-5 pm\"\n",
        "  }\n",
        "}\n",
        "print(person)\n",
        "print(person['name'])\n",
        "print(person['class']['day'])"
      ],
      "metadata": {
        "colab": {
          "base_uri": "https://localhost:8080/"
        },
        "id": "wHaUVM4Rc2w0",
        "outputId": "566377c8-309f-4034-ba45-ee4dd9c8c412"
      },
      "execution_count": null,
      "outputs": [
        {
          "output_type": "stream",
          "name": "stdout",
          "text": [
            "{'name': 'Insia Murtaza', 'age': 43, 'isTeacher': True, 'class': {'day': 'Saturday', 'time': '2-5 pm'}}\n",
            "Insia Murtaza\n",
            "Saturday\n"
          ]
        }
      ]
    },
    {
      "cell_type": "code",
      "source": [
        "# tuples are immutable, which means that once a tuple is created, its elements cannot be changed, modified, or reassigned.\n",
        "fruits:tuple = (\"Mango\",\"Banana\",\"Strawberry\",\"Grapes\",\"Apple\")\n",
        "print(type(fruits))\n",
        "print(fruits[4])"
      ],
      "metadata": {
        "colab": {
          "base_uri": "https://localhost:8080/"
        },
        "id": "StmCyrd6gLJy",
        "outputId": "310d7181-6651-4443-eb04-1e06343f76ba"
      },
      "execution_count": null,
      "outputs": [
        {
          "output_type": "stream",
          "name": "stdout",
          "text": [
            "<class 'tuple'>\n",
            "Apple\n"
          ]
        }
      ]
    },
    {
      "cell_type": "code",
      "source": [
        "# set behaves like dict with the difference that set does not need key, it stores value directly and stores unique value i.e repetiitve values will be deleted\n",
        "fruits:set = {\"Mango\",\"Banana\",\"Strawberry\",\"Grapes\",\"Apple\"}\n",
        "print(type(fruits))\n",
        "print(fruits)"
      ],
      "metadata": {
        "colab": {
          "base_uri": "https://localhost:8080/"
        },
        "id": "2JjQEjsDk8I2",
        "outputId": "4ba5300c-91df-4653-b36e-a29d1336a361"
      },
      "execution_count": null,
      "outputs": [
        {
          "output_type": "stream",
          "name": "stdout",
          "text": [
            "<class 'set'>\n",
            "{'Strawberry', 'Grapes', 'Mango', 'Apple', 'Banana'}\n"
          ]
        }
      ]
    },
    {
      "cell_type": "code",
      "source": [
        "import random\n",
        "babar_azam_score:int = random.randint(0,100)\n",
        "if (babar_azam_score >=50):\n",
        "  print(\"👍\",\"Good\")\n",
        "else:\n",
        "  print(\"👎\",\"Get Lost\")"
      ],
      "metadata": {
        "colab": {
          "base_uri": "https://localhost:8080/"
        },
        "id": "mVPmL1DspACQ",
        "outputId": "687af651-7ca4-4d80-82e2-c53a0a1f620e"
      },
      "execution_count": null,
      "outputs": [
        {
          "output_type": "stream",
          "name": "stdout",
          "text": [
            "👍 Good\n"
          ]
        }
      ]
    }
  ]
}