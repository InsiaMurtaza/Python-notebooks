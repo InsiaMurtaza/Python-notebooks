{
  "nbformat": 4,
  "nbformat_minor": 0,
  "metadata": {
    "colab": {
      "provenance": [],
      "authorship_tag": "ABX9TyPE0Xw4ttXDjRTFKHY7x87y",
      "include_colab_link": true
    },
    "kernelspec": {
      "name": "python3",
      "display_name": "Python 3"
    },
    "language_info": {
      "name": "python"
    }
  },
  "cells": [
    {
      "cell_type": "markdown",
      "metadata": {
        "id": "view-in-github",
        "colab_type": "text"
      },
      "source": [
        "<a href=\"https://colab.research.google.com/github/InsiaMurtaza/Python-notebooks/blob/main/Myfirstnotebook.ipynb\" target=\"_parent\"><img src=\"https://colab.research.google.com/assets/colab-badge.svg\" alt=\"Open In Colab\"/></a>"
      ]
    },
    {
      "cell_type": "code",
      "execution_count": null,
      "metadata": {
        "colab": {
          "base_uri": "https://localhost:8080/"
        },
        "id": "bh-yDG4avPyG",
        "outputId": "a20affc4-3a0c-4b6b-fa56-4eb94a553a90"
      },
      "outputs": [
        {
          "output_type": "stream",
          "name": "stdout",
          "text": [
            "Hello World\n"
          ]
        }
      ],
      "source": [
        "print(\"Hello World\")"
      ]
    },
    {
      "cell_type": "code",
      "source": [
        "full_name : str = \"Insia Murtaza\"\n",
        "print(full_name)"
      ],
      "metadata": {
        "colab": {
          "base_uri": "https://localhost:8080/"
        },
        "id": "k0xgK6PqvhKA",
        "outputId": "93d1234a-56cc-4849-c63b-9b96883acb75"
      },
      "execution_count": null,
      "outputs": [
        {
          "output_type": "stream",
          "name": "stdout",
          "text": [
            "Insia Murtaza\n"
          ]
        }
      ]
    },
    {
      "cell_type": "code",
      "source": [
        "a:int = 10\n",
        "b:int = 5\n",
        "print(a + b,a -b,a * b,a/b,a % b)"
      ],
      "metadata": {
        "colab": {
          "base_uri": "https://localhost:8080/"
        },
        "id": "1Aar_2jYwwn7",
        "outputId": "6c175792-2aa7-4c25-f1f0-a9493dac0b00"
      },
      "execution_count": null,
      "outputs": [
        {
          "output_type": "stream",
          "name": "stdout",
          "text": [
            "15 5 50 2.0 0\n"
          ]
        }
      ]
    },
    {
      "cell_type": "code",
      "source": [
        "first_name:str= \"Insia\"\n",
        "last_name:str=\"Murtaza\"\n",
        "age:int = 43\n",
        "is_teacher:bool = True\n",
        "# f\" is used to concatenate two or more variables of different types\n",
        "full_name:str = f\"{first_name} {last_name} {age} {is_teacher}\"\n",
        "print(full_name)"
      ],
      "metadata": {
        "colab": {
          "base_uri": "https://localhost:8080/"
        },
        "id": "kXnIhrz1xHTV",
        "outputId": "f337106a-287a-4d7b-9e94-03904bf6fe1e"
      },
      "execution_count": null,
      "outputs": [
        {
          "output_type": "stream",
          "name": "stdout",
          "text": [
            "Insia Murtaza 43 True\n"
          ]
        }
      ]
    },
    {
      "cell_type": "code",
      "source": [
        "fruit = \"Mango\"\n",
        "print(type(fruit))"
      ],
      "metadata": {
        "colab": {
          "base_uri": "https://localhost:8080/"
        },
        "id": "g71jnABiy10C",
        "outputId": "63cebc4e-ee60-4744-b898-a09156a260f4"
      },
      "execution_count": null,
      "outputs": [
        {
          "output_type": "stream",
          "name": "stdout",
          "text": [
            "<class 'str'>\n"
          ]
        }
      ]
    },
    {
      "cell_type": "code",
      "source": [
        "fruits:list =[\"Mango\",\"Banana\",\"Apple\",\"Orange\",\"Papaya\",\"Watermelon\",\"Grapes\"]\n",
        "print(len(fruits))\n",
        "print(fruits[3])"
      ],
      "metadata": {
        "colab": {
          "base_uri": "https://localhost:8080/"
        },
        "id": "gxVDlwdMzLur",
        "outputId": "7273539d-6b34-4ac6-918e-354650f60636"
      },
      "execution_count": null,
      "outputs": [
        {
          "output_type": "stream",
          "name": "stdout",
          "text": [
            "7\n",
            "Orange\n"
          ]
        }
      ]
    },
    {
      "cell_type": "code",
      "source": [
        "from ast import Slice\n",
        "fruits:list =[\"Mango\",\"Banana\",\"Apple\",\"Orange\",\"Papaya\",\"Watermelon\",\"Grapes\"]\n",
        "print(fruits[0:2])\n",
        "print(fruits)\n",
        "fruits.append(\"Strawberry\")\n",
        "print(fruits)\n",
        "fruits.extend([\"Kiwi\",\"Guava\",\"Pineapple\"])\n",
        "print(fruits)\n",
        "# removes the fruit at index number 4\n",
        "fruits.pop(4)\n",
        "print(fruits)\n",
        "# displays the fruit which is removed\n",
        "print(fruits.pop(3))\n",
        "# removes Apple from the list\n",
        "fruits.remove(\"Apple\")\n",
        "print(fruits)\n",
        "# inserts Apple at index no.3\n",
        "fruits.insert(3,\"Apple\")\n",
        "print(fruits)\n",
        "# arranges fruits in alphabetical order\n",
        "fruits.sort()\n",
        "print(fruits)\n",
        "# reverses whatsoever the order of the list i.e index 0 becomes last and last becomes 0\n",
        "fruits.reverse()\n",
        "print(fruits)\n",
        "\n",
        "# displays index number of mango\n",
        "print(fruits.index(\"Mango\"))\n",
        "\n",
        "\n",
        "\n"
      ],
      "metadata": {
        "colab": {
          "base_uri": "https://localhost:8080/"
        },
        "id": "pU6eV1Tlzp6m",
        "outputId": "be4a3872-6a7e-40c9-fa31-2009423151da"
      },
      "execution_count": null,
      "outputs": [
        {
          "output_type": "stream",
          "name": "stdout",
          "text": [
            "['Mango', 'Banana']\n",
            "['Mango', 'Banana', 'Apple', 'Orange', 'Papaya', 'Watermelon', 'Grapes']\n",
            "['Mango', 'Banana', 'Apple', 'Orange', 'Papaya', 'Watermelon', 'Grapes', 'Strawberry']\n",
            "['Mango', 'Banana', 'Apple', 'Orange', 'Papaya', 'Watermelon', 'Grapes', 'Strawberry', 'Kiwi', 'Guava', 'Pineapple']\n",
            "['Mango', 'Banana', 'Apple', 'Orange', 'Watermelon', 'Grapes', 'Strawberry', 'Kiwi', 'Guava', 'Pineapple']\n",
            "Orange\n",
            "['Mango', 'Banana', 'Watermelon', 'Grapes', 'Strawberry', 'Kiwi', 'Guava', 'Pineapple']\n",
            "['Mango', 'Banana', 'Watermelon', 'Apple', 'Grapes', 'Strawberry', 'Kiwi', 'Guava', 'Pineapple']\n",
            "['Apple', 'Banana', 'Grapes', 'Guava', 'Kiwi', 'Mango', 'Pineapple', 'Strawberry', 'Watermelon']\n",
            "['Watermelon', 'Strawberry', 'Pineapple', 'Mango', 'Kiwi', 'Guava', 'Grapes', 'Banana', 'Apple']\n",
            "3\n"
          ]
        }
      ]
    },
    {
      "cell_type": "code",
      "source": [
        "quarter: str = \"Q3\"\n",
        "# f\"\"\" is used to break line from whereever the line needs to be broken just type enter in the syntax\n",
        "achievement: str = f\"\"\"Thrilled to share\n",
        "I'm passing {quarter} exam!\"\"\"\n",
        "print(achievement)"
      ],
      "metadata": {
        "colab": {
          "base_uri": "https://localhost:8080/"
        },
        "id": "Cn9NkBfK3-p1",
        "outputId": "f17f62a7-bf33-49ce-93f4-e20c03dcde4a"
      },
      "execution_count": null,
      "outputs": [
        {
          "output_type": "stream",
          "name": "stdout",
          "text": [
            "Thrilled to share\n",
            "I'm passing Q3 exam!\n"
          ]
        }
      ]
    }
  ]
}